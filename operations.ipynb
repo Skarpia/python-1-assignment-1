{
 "cells": [
  {
   "cell_type": "code",
   "execution_count": 3,
   "id": "0592814f-c070-44c5-8f17-39a13625b246",
   "metadata": {},
   "outputs": [
    {
     "name": "stdout",
     "output_type": "stream",
     "text": [
      "10 + 5 = 15\n",
      "20 - 8 = 12\n",
      "7 * 6 = 42\n",
      "50 / 10 = 5.0\n"
     ]
    }
   ],
   "source": [
    "# Simple calculator showing all operations\n",
    "# Addition\n",
    "num1 = 10\n",
    "num2 = 5\n",
    "operation = '+'\n",
    "if operation == '+':\n",
    "    result = num1 + num2\n",
    "    print(f\"{num1} + {num2} = {result}\")\n",
    "\n",
    "# Subtraction\n",
    "num1 = 20\n",
    "num2 = 8\n",
    "operation = '-'\n",
    "if operation == '-':\n",
    "    result = num1 - num2\n",
    "    print(f\"{num1} - {num2} = {result}\")\n",
    "\n",
    "# Multiplication \n",
    "num1 = 7\n",
    "num2 = 6\n",
    "operation = '*'\n",
    "if operation == '*':\n",
    "    result = num1 * num2\n",
    "    print(f\"{num1} * {num2} = {result}\")\n",
    "\n",
    "# Division \n",
    "num1 = 50\n",
    "num2 = 10\n",
    "operation = '/'\n",
    "if operation == '/':\n",
    "    if num2 != 0:\n",
    "        result = num1 / num2\n",
    "        print(f\"{num1} / {num2} = {result}\")\n",
    "    else:\n",
    "        print(\"Error: Division by zero is not allowed.\")\n"
   ]
  }
 ],
 "metadata": {
  "kernelspec": {
   "display_name": "Python 3 (ipykernel)",
   "language": "python",
   "name": "python3"
  },
  "language_info": {
   "codemirror_mode": {
    "name": "ipython",
    "version": 3
   },
   "file_extension": ".py",
   "mimetype": "text/x-python",
   "name": "python",
   "nbconvert_exporter": "python",
   "pygments_lexer": "ipython3",
   "version": "3.13.5"
  }
 },
 "nbformat": 4,
 "nbformat_minor": 5
}
